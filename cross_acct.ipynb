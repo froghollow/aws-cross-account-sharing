{
 "cells": [
  {
   "cell_type": "markdown",
   "metadata": {},
   "source": [
    "# AWS Cross-Account Resource Sharing Notebook\n",
    "This notebook provides examples how to configure IAM Roles and Policies between a **Shared (Trusting) Account** which contains resources being made accessible to a **Trusted Account**.  It contains scripts to query existing configurations to discover what is already in place.   This workbook also contains templates based on a set of parameters common to both the Shared and Trusted accounts to support creating new configurations from scratch.  Cross-account configurations are not difficult, but they are detailed.  And several approaches yield similar results.  The goal this workbook is to promote standardization of Cross-account configurations.\n"
   ]
  },
  {
   "cell_type": "code",
   "execution_count": 4,
   "metadata": {},
   "outputs": [
    {
     "name": "stdout",
     "output_type": "stream",
     "text": [
      "<module 'iam_cross_account' from 'c:\\\\Users\\\\richa\\\\Code\\\\cross-account-resource-sharing\\\\iam_cross_account.py'>\n",
      "Help on module iam_cross_account:\n",
      "\n",
      "NAME\n",
      "    iam_cross_account - Module to support Cross Account Roles and Policies between a Shared Account and a Trusted Account\n",
      "\n",
      "CLASSES\n",
      "    builtins.object\n",
      "        AwsAccount\n",
      "    \n",
      "    class AwsAccount(builtins.object)\n",
      "     |  AwsAccount(partition, region, account_id, profile_name)\n",
      "     |  \n",
      "     |  Class that represents an IAM Account with methods to manage Roles and Policies\n",
      "     |  \n",
      "     |  # adapted from https://github.com/awsdocs/aws-doc-sdk-examples/blob/main/python/example_code/iam\n",
      "     |  # Copyright Amazon.com, Inc. or its affiliates. All Rights Reserved.\n",
      "     |  # SPDX-License-Identifier: Apache-2.0\n",
      "     |  \n",
      "     |  Methods defined here:\n",
      "     |  \n",
      "     |  __init__(self, partition, region, account_id, profile_name)\n",
      "     |      Initialize self.  See help(type(self)) for accurate signature.\n",
      "     |  \n",
      "     |  attach_policy(self, role_name, policy_arn)\n",
      "     |      Attaches a managed policy to a role.\n",
      "     |      \n",
      "     |      :param role_name: The name of the role. **Note** this is the name, not the ARN.\n",
      "     |      :param policy_arn: The ARN of the policy.\n",
      "     |  \n",
      "     |  create_policy(self, name, description, policy_doc)\n",
      "     |      Creates a policy based on a JSON doc.\n",
      "     |      \n",
      "     |      :param name: The name of the policy to create.\n",
      "     |      :param description: The description of the policy.\n",
      "     |      :param policy_doc: JSON Policy Document that defines what actions are allowed on which resources\n",
      "     |      :return: The newly created policy.\n",
      "     |  \n",
      "     |  create_role(self, role_name, allowed_services)\n",
      "     |      Creates a role that lets a list of specified services assume the role.\n",
      "     |      \n",
      "     |      :param role_name: The name of the role.\n",
      "     |      :param allowed_services: The services that can assume the role.\n",
      "     |      :return: The newly created role.\n",
      "     |  \n",
      "     |  put_managed_policy(self, policy_arn, description, policy_doc)\n",
      "     |      Create or Update IAM Managed Policy from JSON Policy Doc\n",
      "     |  \n",
      "     |  put_role_and_policy_config(self, config_doc)\n",
      "     |      Put IAM Role with Attached and/or Inline Policies from a JSON doc in the format produced\n",
      "     |      by query_role_and_policy_config()\n",
      "     |  \n",
      "     |  query_role_and_policy_config(self, role_name)\n",
      "     |      Query IAM Role with Attached and Inline Policies into a JSON doc\n",
      "     |      \n",
      "     |      :param role_name: The name of the role. **Note** this is the name, not the ARN.\n",
      "     |  \n",
      "     |  ----------------------------------------------------------------------\n",
      "     |  Data descriptors defined here:\n",
      "     |  \n",
      "     |  __dict__\n",
      "     |      dictionary for instance variables (if defined)\n",
      "     |  \n",
      "     |  __weakref__\n",
      "     |      list of weak references to the object (if defined)\n",
      "\n",
      "FILE\n",
      "    c:\\users\\richa\\code\\cross-account-resource-sharing\\iam_cross_account.py\n",
      "\n",
      "\n"
     ]
    }
   ],
   "source": [
    "import boto3\n",
    "import json\n",
    "import logging\n",
    "\n",
    "\"\"\" Import Python Modules \"\"\"\n",
    "import sys\n",
    "sys.path.insert( 0, './python') \n",
    "\n",
    "# load common code module for Cross Account access\n",
    "import iam_cross_account as xa\n",
    "\n",
    "import importlib\n",
    "print(importlib.reload(xa))\n",
    "\n",
    "help(xa)"
   ]
  },
  {
   "cell_type": "code",
   "execution_count": 5,
   "metadata": {},
   "outputs": [
    {
     "data": {
      "text/plain": [
       "{'Partition': 'aws',\n",
       " 'SharedRegion': 'us-east-2',\n",
       " 'SharedAcct': '442483223120',\n",
       " 'SharedKeyId': 'daab-lab-kms-s3',\n",
       " 'SharedBucket': 'daab-lab-smpl-main-landing-pad',\n",
       " 'SharedFolder': 'TOP',\n",
       " 'SharedPrefix': 'DAAB-LAB-RAM',\n",
       " 'TrustedRegion': 'us-east-2',\n",
       " 'TrustedAcct': '289755104220',\n",
       " 'TrustedPrefix': 'RAM-LAB-DAAB'}"
      ]
     },
     "execution_count": 5,
     "metadata": {},
     "output_type": "execute_result"
    }
   ],
   "source": [
    "# Define common parameters spec'd in both Shared and Trusted accounts\n",
    "xacct_parms = {\n",
    "    'Partition' : 'aws' ,                   # [aws|aws-us-gov]\n",
    "    'SharedRegion' : 'us-east-2',\n",
    "    'SharedAcct' : '442483223120', \n",
    "    'SharedKeyId' : 'daab-lab-kms-s3',      # uuid of KMS key,\n",
    "    'SharedBucket' : 'daab-lab-smpl-main-landing-pad',\n",
    "    'SharedFolder' : 'TOP',\n",
    "    'SharedPrefix' : 'DAAB-LAB-RAM',        # $SharedSys-$Env-$TrustedSys\n",
    "    'TrustedRegion' : 'us-east-2',\n",
    "    'TrustedAcct' : '289755104220', \n",
    "    'TrustedPrefix' : 'RAM-LAB-DAAB',       # $TrustedSys-$Env-$SharedSys\n",
    "}\n",
    "\n",
    "# Create Object to work with Shared Account (wherein resources reside)\n",
    "shared_acct = xa.AwsAccount (\n",
    "    profile_name = 'ram_daab_lab',  # from ~/.aws/credentials file (ToDo: pass/set session)\n",
    "    partition = xacct_parms['Partition'], \n",
    "    region =    xacct_parms['SharedRegion'],\n",
    "    account_id= xacct_parms['SharedAcct'],\n",
    ")\n",
    "# Create Object to work with Trusted Account (to access shared resources)\n",
    "trusted_acct = xa.AwsAccount (\n",
    "    profile_name = 'ram_fh',        # from ~/.aws/credentials file (ToDo: pass/set session)\n",
    "    partition = xacct_parms['Partition'], \n",
    "    region =    xacct_parms['TrustedRegion'],\n",
    "    account_id= xacct_parms['TrustedAcct'],\n",
    ")\n",
    "\n",
    "xacct_parms"
   ]
  },
  {
   "cell_type": "markdown",
   "metadata": {},
   "source": [
    "#### Scenario 1 -- Query Existing Existing Role & Policy Configurations into a JSON document\n",
    "An IAM Role, which specifies [Trust Policy](https://docs.aws.amazon.com/IAM/latest/UserGuide/id_roles_terms-and-concepts.html#term_trust-policy), grants permissions thru a combination of [Attached (Managed) Policies and Inline Policies](https://docs.aws.amazon.com/IAM/latest/UserGuide/access_policies_managed-vs-inline.html).  Managed Policies are generally preferred, especially if the same set of permissions will be granted to multiple Roles and/or Users.\n",
    "\n",
    "On the IAM Console, reviewing a Role involves paging around thru several tabs and links.  This makes it inconvenient to document (with a mess a screenshots), and difficult to review during troubleshooting sessions.\n",
    "\n",
    "The **query_role_and_policy_config(role_name)** method retrieves all the relevant Role and Policy information into a common JSON document, which can be written to a file for purposes of 'as-is' documentation and sharing for review.\n"
   ]
  },
  {
   "cell_type": "code",
   "execution_count": 6,
   "metadata": {},
   "outputs": [
    {
     "name": "stdout",
     "output_type": "stream",
     "text": [
      "Wrote ram-lab-CrossAccountLandingPadRole-trusted_config.json from Account 289755104220.\n",
      "Wrote daab-lab-CrossAccountLandingPadRole-shared_config.json from Account 442483223120.\n"
     ]
    }
   ],
   "source": [
    "# Query Existing Role & Policy Configurations into a JSON document\n",
    "# e.g.,\n",
    "# ... from the Trusted Account ...\n",
    "role_name = 'ram-lab-CrossAccountLandingPadRole'\n",
    "outfile = f'{role_name}-trusted_config.json'\n",
    "\n",
    "trusted_config = trusted_acct.query_role_and_policy_config ( role_name )\n",
    "with open(outfile, 'w') as f:\n",
    "    f.write( json.dumps(trusted_config, indent=2) )\n",
    "\n",
    "print(f\"Wrote {outfile} from Account {trusted_acct.account_id}.\")\n",
    "\n",
    "# ... from the Shared Account ...\n",
    "role_name = 'daab-lab-CrossAccountLandingPadRole'\n",
    "outfile = f'{role_name}-shared_config.json'\n",
    "\n",
    "shared_config = shared_acct.query_role_and_policy_config ( role_name )\n",
    "with open(outfile, 'w') as f:\n",
    "    f.write( json.dumps(shared_config, indent=2) )\n",
    "\n",
    "print(f\"Wrote {outfile} from Account {shared_acct.account_id}.\")\n"
   ]
  },
  {
   "cell_type": "markdown",
   "metadata": {},
   "source": [
    "#### Scenario 2 -- Generate Cross Account Configurations from Templates \n",
    "\n",
    "Cross-Account configurations involve setting up the same parameters in both the Trusted and Sharing accounts.  We can use standardized templates for these configurations with 'placeholders' to represent common parameters.  "
   ]
  },
  {
   "cell_type": "code",
   "execution_count": 7,
   "metadata": {},
   "outputs": [
    {
     "name": "stdout",
     "output_type": "stream",
     "text": [
      "Partition aws\n",
      "SharedRegion us-east-2\n",
      "SharedAcct 442483223120\n",
      "SharedKeyId daab-lab-kms-s3\n",
      "SharedBucket daab-lab-smpl-main-landing-pad\n",
      "SharedFolder TOP\n",
      "SharedPrefix DAAB-LAB-RAM\n",
      "TrustedRegion us-east-2\n",
      "TrustedAcct 289755104220\n",
      "TrustedPrefix RAM-LAB-DAAB\n",
      "Created 'DAAB-LAB-RAM-CrossAccountLandingPadRole.json' from '$SharedPrefix-CrossAccountLandingPadRole-shared.json'\n"
     ]
    }
   ],
   "source": [
    "# Search and Replace JSON Template '$Placeholders' with Common Parameters\n",
    "import  json\n",
    "\n",
    "def replace_keyvals( parms, in_string ):\n",
    "    for key, val in parms.items():\n",
    "        print(key,val)\n",
    "        in_string = in_string.replace( f\"${key}\", val)\n",
    "\n",
    "    return in_string\n",
    "\n",
    "#e.g.,\n",
    "in_template = \"$SharedPrefix-CrossAccountLandingPadRole-shared.json\"\n",
    "with open( in_template , \"r\") as f:\n",
    "    in_buf = f.read()\n",
    "\n",
    "shared_config = json.loads(replace_keyvals( xacct_parms, in_buf ))\n",
    "shared_config['CrossAccountParms'] = xacct_parms\n",
    "shared_config['FromTemplate'] = in_template\n",
    "\n",
    "out_config = f\"{shared_config['RoleName']}.json\"\n",
    "with open( out_config, \"w\") as f:\n",
    "    f.write( json.dumps(shared_config, indent=2) )\n",
    "\n",
    "print( f\"Created '{out_config}' from '{in_template}'\")\n"
   ]
  },
  {
   "cell_type": "markdown",
   "metadata": {},
   "source": [
    "#### Scenario 3 -- Create/Update IAM Roles and Policies from JSON Config Doc\n",
    "\n",
    "The **put_role_and_policy_config (config_doc)** method actually applies settings from JSON Config Docs to IAM Roles and Policies.  \n",
    " \n",
    "JSON Config Docs specified in this project can be used to cut and paste into Terraform or CloudFormation scripts.  Or emailed to admins of other accounts.  New configurations might come from an edited copy of existing settings or get generated from templates and parameters.  \n"
   ]
  },
  {
   "cell_type": "code",
   "execution_count": 9,
   "metadata": {},
   "outputs": [],
   "source": [
    "# Put IAM Role with Attached and/or Inline Policies from a JSON doc\n",
    "# (e.g., to apply manual edits)\n",
    "config_filename = \"DAAB-LAB-RAM-CrossAccountLandingPadRole.json\"\n",
    "with open( config_filename , \"r\") as f:\n",
    "    config_doc = json.loads(f.read())\n",
    "\n",
    "shared_acct.put_role_and_policy_config ( config_doc )"
   ]
  }
 ],
 "metadata": {
  "kernelspec": {
   "display_name": "Python 3",
   "language": "python",
   "name": "python3"
  },
  "language_info": {
   "codemirror_mode": {
    "name": "ipython",
    "version": 3
   },
   "file_extension": ".py",
   "mimetype": "text/x-python",
   "name": "python",
   "nbconvert_exporter": "python",
   "pygments_lexer": "ipython3",
   "version": "3.8.3"
  }
 },
 "nbformat": 4,
 "nbformat_minor": 2
}
